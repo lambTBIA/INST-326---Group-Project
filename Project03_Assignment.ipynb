{
 "cells": [
  {
   "cell_type": "markdown",
   "id": "cddf5de3-a9f3-4471-bbaf-aca41a70ce89",
   "metadata": {},
   "source": [
    "### INST326 OOP Project 03"
   ]
  },
  {
   "cell_type": "markdown",
   "id": "2bb7f115-9eba-4f29-918e-b016e6a7edc8",
   "metadata": {},
   "source": [
    "Rename this notebook, replacing \"_Assignment\" with \"_YourName\"<br>\n",
    "Insert Signature Block Here"
   ]
  },
  {
   "cell_type": "markdown",
   "id": "8ee05bdb-db2d-41c2-9f23-3af75d058612",
   "metadata": {},
   "source": [
    "### The Project\n",
    "Everyone will do the same project this time. This is a group project, so you must work in your assigned groups. Include the link to your group's GitHub repository (one link per group). Use comments in your code to document your solution. If you need to write comments to the grader, add a markdown cell immediately above your code solution and add your comments there. Be sure to read and follow all the requirements and the Notebook Instructions at the bottom of this notebook. Your grade may depend on it!"
   ]
  },
  {
   "cell_type": "markdown",
   "id": "a1c98e85-2c64-4a03-8309-d91035cca6d2",
   "metadata": {},
   "source": [
    "#### 1. A Scheduling Program\n",
    ">  My wife is responsible for scheduling caregivers for her 93 year-old mother. Currently she writes out the schedule on a monthly calendar and photocopies it for everyone. I want all of you to help me write a program to help her with scheduling. While this is a specific application, this program will be broadly useful and adaptable to any scheduling needs for small businesses, clubs, and more."
   ]
  },
  {
   "cell_type": "markdown",
   "id": "28b28d8a-dbb3-4f15-bbe0-e14504b84876",
   "metadata": {},
   "source": [
    "#### Requirements\n",
    ">  Care is required 12 hours per day, 7 days a week. There are two shifts each day: 7:00 AM - 1:00 PM, and 1:00 PM to 7:00 PM. There are a total of 8 caregivers. Some are family members and some are paid. Each caregiver has their own availability for shifts that is generally the same from month to month, but there are exceptions for work, vacations, and other responsibilities. Your program should do the following:\n",
    "> 1. Manage caregivers and their schedules. Attributes include: name, phone, email, pay rate, and hours.\n",
    "> 2. Each caregiver should have their own availability schedule where they can indicate their availability for each shift. Availability categories are 'preferred', 'available' (default), and 'unavailable'.\n",
    "> 3. Create a care schedule that covers AM and PM shifts and displays caregiver names on a calendar (see example). The schedule should accomodate caregivers' individual schedules and availability preferences. The python calendar module provides options for creating HTML calendars. Sample code for the HTML calendar is in the project folder.\n",
    "> 4. Paid caregivers are paid weekly at $20/hr. Your program should calculate weekly pay based on assigned hours. Provide a separate pay report that lists weekly (gross: hours x rate) amounts to each caregiver, along with weekly and monthly totals. The report can be a text document, or presented in GUI or HTML format. "
   ]
  },
  {
   "cell_type": "markdown",
   "id": "6708f6cf-aac7-430e-947d-6f9c8dd161f6",
   "metadata": {
    "jp-MarkdownHeadingCollapsed": true
   },
   "source": [
    "#### Group Requirements\n",
    ">  1. Your submitted project should follow OOP principles like abstraction, encapsulation, inheritance, and polymorphism as appropriate. Your program should use classes. \n",
    ">  2. Select a group leader who will host the group's project repository on their GitHub.\n",
    ">  3. Create the group repository and add a main program document. See example.\n",
    ">  4. Create branches off the main program for each group member, and assign part of the program to each member.\n",
    ">  5. Each member should work on their branch.\n",
    ">  6. When each member is finished, merge the branches back into the main program. You may use 'merge' or 'pull requests', your choice.\n",
    ">  7. iterate and debug as necessary."
   ]
  },
  {
   "cell_type": "markdown",
   "id": "71b8f18e-607a-4c94-81a3-ebbc488ba8c6",
   "metadata": {},
   "source": [
    "#### Working with HTML\n",
    "> Since this is a course on python, not HTML, you are not expected to know HTML. Therefore, you may copy applicable portions of the sample code or use AI to write the HTML portions of your application. Ypu should write the main python code yourself.\n"
   ]
  },
  {
   "cell_type": "markdown",
   "id": "fc336368-4292-42af-aa60-06b27ff6b303",
   "metadata": {
    "jp-MarkdownHeadingCollapsed": true
   },
   "source": [
    "#### What you need to turn in\n",
    ">  This is a group project. There will be one submission per group. Your submission will be graded as a group.\n",
    ">  1. Include your group number and the names of all group members in the signature block at the top of this notebook.\n",
    ">  2. In the cell below, paste the link to your project repository. One link per group. The grader will review the activity and history provided by GitHub. To add a hyperlink to a Jupyter markdown cell, follow the instructions in the cell below.\n",
    ">  3. Below the GitHub Repository Link cell is a code cell. Copy and paste your final program code into this cell."
   ]
  },
  {
   "cell_type": "markdown",
   "id": "3ece03e6-a41f-484d-8417-d8c4e156b2c0",
   "metadata": {},
   "source": [
    "#### GitHub Repository Link\n",
    "> Example: [INST326_Fall2024/Projects/Project03](https://github.com/sdempwolf/INST326_Fall_2024/tree/main/Projects/Project03)\n",
    ">\n",
    "> Edit the link code below with your information, then run this cell. Test the link! It should take you to your GitHub project repository.\n",
    "> [external link text](http://url_here)"
   ]
  },
  {
   "cell_type": "code",
   "execution_count": null,
   "id": "cb35b908-6683-4144-816c-051715925504",
   "metadata": {},
   "outputs": [
    {
     "name": "stdout",
     "output_type": "stream",
     "text": [
      "Name: Alice Johnson\n",
      "Phone: 123-456-7890\n",
      "Email: alice@example.com\n",
      "Pay Rate: $20.00/hr\n",
      "Hours Worked: 0 hrs\n",
      "------------------------------\n",
      "Name: Bob Smith\n",
      "Phone: 234-567-8901\n",
      "Email: bob@example.com\n",
      "Pay Rate: $18.00/hr\n",
      "Hours Worked: 0 hrs\n",
      "------------------------------\n",
      "\n",
      "Updated Info for Alice Johnson:\n",
      "Name: Alice Johnson\n",
      "Phone: 123-456-7890\n",
      "Email: alice@example.com\n",
      "Pay Rate: $20.00/hr\n",
      "Hours Worked: 40 hrs\n",
      "\n"
     ]
    }
   ],
   "source": [
    "# Solution - enter your code solution below\n",
    "import tkinter as tk\n",
    "\n",
    "import tkinter as tk
     from datetime import datetime, timedelta

    class Caregiver:
    def __init__(self, name, phone, email, payRate, hours=0, available_shifts=None):
        self.__name = name
        self.__phone = phone
        self.__email = email
        self.__payRate = payRate
        self.__hours = hours
        # Updated to store availability by day and shift with categories
        self.__available_shifts = available_shifts if available_shifts else {day: {"AM": "unavailable", "PM": "unavailable"} for day in ["Mon", "Tue", "Wed", "Thu", "Fri", "Sat", "Sun"]}

    # Getters
    def getName(self):
        return self.__name
    def getPhone(self):
        return self.__phone
    def getEmail(self):
        return self.__email
    def getPayRate(self):
        return self.__payRate
    def getHours(self):
        return self.__hours
    def getAvailableShifts(self):
        return self.__available_shifts
    
    # Setters
    def setPhone(self, phone):
        self.__phone = phone
    def setEmail(self, email):
        self.__email = email
    def setPayRate(self, payRate):
        if payRate >= 0:
            self.__payRate = payRate
        else:
            print("Pay must be greater than 0")
    def setHours(self, hours):
        if hours >= 0:
            self.__hours = hours
        else:
            print("Hours can't be less than 0")

    def setAvailability(self, day, shift, category):
        """Set availability for a specific day and shift."""
        if day in self.__available_shifts and shift in self.__available_shifts[day]:
            if category in ["preferred", "available", "unavailable"]:
                self.__available_shifts[day][shift] = category
            else:
                print("Invalid category. Please choose from 'preferred', 'available', or 'unavailable'.")
        else:
            print("Invalid day or shift.")

    def infoDisplay(self):
        return (f"Name: {self.__name}\n"
                f"Phone: {self.__phone}\n"
                f"Email: {self.__email}\n"
                f"Pay Rate: ${self.__payRate:.2f}/hr\n"
                f"Hours Worked: {self.__hours} hrs\n")

    class CareSchedule:
    def __init__(self):
        self.schedule = {  # Monday to Sunday, with AM and PM shifts
            "Mon": {"AM": None, "PM": None},
            "Tue": {"AM": None, "PM": None},
            "Wed": {"AM": None, "PM": None},
            "Thu": {"AM": None, "PM": None},
            "Fri": {"AM": None, "PM": None},
            "Sat": {"AM": None, "PM": None},
            "Sun": {"AM": None, "PM": None},
        }
        self.caregivers = []

    def addCaregiver(self, caregiver):
        self.caregivers.append(caregiver)

    def assignShifts(self):
        # Iterate through each day and assign caregivers based on their availability
        for day in self.schedule:
            for shift in self.schedule[day]:
                # Sort caregivers by their availability preference for each shift
                available_caregivers = sorted(
                    [cg for cg in self.caregivers if cg.getAvailableShifts()[day][shift] != "unavailable"],
                    key=lambda cg: {"preferred": 0, "available": 1, "unavailable": 2}.get(cg.getAvailableShifts()[day][shift], 2)
                )
                if available_caregivers:
                    # Assign the caregiver with the highest preference (lowest value)
                    self.schedule[day][shift] = available_caregivers[0]
                else:
                    self.schedule[day][shift] = "No caregiver available"

    def displaySchedule(self):
        # Display the entire schedule for a week
        display_str = ""
        for day, shifts in self.schedule.items():
            display_str += f"{day}:\n"
            for shift, caregiver in shifts.items():
                caregiver_info = caregiver.getName() if caregiver != "No caregiver available" else caregiver
                display_str += f"  {shift}: {caregiver_info}\n"
        return display_str


    # Example Usage

    # Create caregivers and set availability
    caregiver1 = Caregiver("Alice", "123-456-7890", "alice@email.com", 20.00)
    caregiver1.setAvailability("Mon", "AM", "preferred")
    caregiver1.setAvailability("Tue", "AM", "preferred")
    caregiver1.setAvailability("Wed", "PM", "available")
    caregiver1.setAvailability("Thu", "AM", "unavailable")
    caregiver1.setAvailability("Fri", "AM", "preferred")

    caregiver2 = Caregiver("Bob", "987-654-3210", "bob@email.com", 18.00)
    caregiver2.setAvailability("Sat", "AM", "preferred")
    caregiver2.setAvailability("Sun", "PM", "available")

    caregiver3 = Caregiver("Charlie", "555-555-5555", "charlie@email.com", 22.00)
    caregiver3.setAvailability("Wed", "AM", "available")
    caregiver3.setAvailability("Fri", "PM", "preferred")
    caregiver3.setAvailability("Sun", "AM", "unavailable")

    # Create CareSchedule and add caregivers
    schedule_manager = CareSchedule()
    schedule_manager.addCaregiver(caregiver1)
    schedule_manager.addCaregiver(caregiver2)
    schedule_manager.addCaregiver(caregiver3)

    # Assign shifts based on availability
    schedule_manager.assignShifts()

    # Display the schedule for the week
    print(schedule_manager.displaySchedule())

   ]
  },
  {
   "cell_type": "markdown",
   "id": "ec8ddd19-87cd-475d-a07f-7dc8983dc636",
   "metadata": {},
   "source": [
    "### Notebook Instructions\n",
    "> Before turning in your notebook:\n",
    "> 1. Make sure you have renamed the notebook file as instructed\n",
    "> 2. Make sure you have included your signature block and that it is correct according to the instructions\n",
    "> 3. comment your code as necessary\n",
    "> 4. run all code cells and double check that they run correctly. If you can't get your code to run correctly and you want partial credit, add a note for the grader in a new markdown cell directly above your code solution.<br><br>\n",
    "Turn in your notebook by uploading it to ELMS<br>\n",
    "IF the exercises involve saved data files, put your notebook and the data file(s) in a zip folder and upload the zip folder to ELMS"
   ]
  },
  {
   "cell_type": "code",
   "execution_count": null,
   "id": "c2f96be2-9bc0-46ea-98fb-51d8c07c7de8",
   "metadata": {},
   "outputs": [],
   "source": []
  }
 ],
 "metadata": {
  "kernelspec": {
   "display_name": "Python 3",
   "language": "python",
   "name": "python3"
  },
  "language_info": {
   "codemirror_mode": {
    "name": "ipython",
    "version": 3
   },
   "file_extension": ".py",
   "mimetype": "text/x-python",
   "name": "python",
   "nbconvert_exporter": "python",
   "pygments_lexer": "ipython3",
   "version": "3.9.6"
  }
 },
 "nbformat": 4,
 "nbformat_minor": 5
}
