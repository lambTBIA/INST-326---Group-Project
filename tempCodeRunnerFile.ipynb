if __name__ == "__main__":
    manager = CaregiverManager()
    
    # Adding some sample caregivers for testing
    caregiver1 = Caregiver("Alice Johnson", "123-456-7890", "alice@example.com", 20)
    caregiver2 = Caregiver("Bob Smith", "234-567-8901", "bob@example.com", 18)
    
    manager.add_caregiver(caregiver1)
    manager.add_caregiver(caregiver2)
    
    # Display all caregivers
    print(manager.display_all_caregivers())
    
    # Find and update a caregiver's information
    caregiver = manager.find_caregiver("Alice Johnson")
    if caregiver:
        caregiver.set_hours(40)
        print("\nUpdated Info for Alice Johnson:")
        print(caregiver.display_info())